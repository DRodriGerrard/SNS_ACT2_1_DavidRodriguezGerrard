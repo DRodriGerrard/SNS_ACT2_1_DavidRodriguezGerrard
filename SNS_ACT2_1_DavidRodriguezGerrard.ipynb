{
 "cells": [
  {
   "cell_type": "markdown",
   "metadata": {},
   "source": [
    "<h1>Parte 1</h1>"
   ]
  },
  {
   "cell_type": "code",
   "execution_count": 1,
   "metadata": {
    "id": "cmdFOnHeEbQp"
   },
   "outputs": [],
   "source": [
    "import numpy as np\n",
    "import pandas as pd\n",
    "import scipy.stats as st"
   ]
  },
  {
   "cell_type": "code",
   "execution_count": 2,
   "metadata": {
    "colab": {
     "base_uri": "https://localhost:8080/"
    },
    "id": "_pmY0kaEE3Kz",
    "outputId": "dc8a6c72-8c4f-481f-dce0-1943795a4a12"
   },
   "outputs": [
    {
     "data": {
      "text/plain": [
       "array([15135.5668429 , 15286.87991669, 15288.11657097, 15316.83386362,\n",
       "       15321.73961193, 15376.79900509, 15500.53376076, 15540.89934049,\n",
       "       15770.25246872, 15904.02150361, 15924.57731953, 15935.26569734,\n",
       "       16233.62704929, 16371.42936358, 16424.48737703, 16440.34008991,\n",
       "       16463.17371952, 16475.0362065 , 16476.354339  , 16574.11890901,\n",
       "       16679.48948463, 16807.89125101, 16869.58710372, 17016.75284961,\n",
       "       17188.61341646, 17484.94622322, 17525.51212545, 17623.36163827,\n",
       "       17687.98188657, 17801.12414156, 18368.6686398 , 18521.59320597,\n",
       "       18632.03986105, 18651.14030986, 18816.85120449, 18872.96490077,\n",
       "       18890.95269661, 18925.92905361, 18965.47304687, 18976.45998244,\n",
       "       18979.82087541, 19219.74815106, 19314.25647101, 19397.13091584,\n",
       "       19414.2977671 , 19465.61305413, 19480.89876552, 19488.60219364,\n",
       "       19493.71494165, 19671.15547212, 19721.6250854 , 19732.83600143,\n",
       "       19861.24275296, 20028.59356235, 20201.07865082, 20210.64369979,\n",
       "       20245.97673021, 20343.67819871, 20493.76045039, 20614.42126868,\n",
       "       20926.95603669, 21167.07730073, 21346.32609635, 21363.94468447,\n",
       "       21398.58513559, 21475.3773838 , 21509.71328023, 21723.25471812,\n",
       "       21763.84737201, 21897.53259222, 21971.24407328, 21990.82163912,\n",
       "       22154.72118866, 22483.2333357 , 22513.56327044, 22596.44843932,\n",
       "       22610.77932081, 22681.26804244, 22736.4794644 , 22758.07245041,\n",
       "       22812.51497032, 22838.34265737, 22871.29907346, 22915.10875926,\n",
       "       22992.35260357, 23042.00147785, 23057.96943971, 23105.56819212,\n",
       "       23111.6247186 , 23225.14425015, 23241.53214623, 23289.54509852,\n",
       "       23375.40056052, 23575.31981187, 23876.75563363, 24221.50825096,\n",
       "       24254.26327291, 24256.78612813, 24389.69536197, 24711.02768196])"
      ]
     },
     "execution_count": 2,
     "metadata": {},
     "output_type": "execute_result"
    }
   ],
   "source": [
    "datos = 15000+np.random.rand(100)*10000\n",
    "datos_ord = datos\n",
    "datos_ord.sort()\n",
    "datos"
   ]
  },
  {
   "cell_type": "markdown",
   "metadata": {
    "id": "HxZvA56uFJML"
   },
   "source": [
    "<h3>a) Calcular la media y la mediana antes de realizar la modificación de\n",
    "incluir unos ingresos de 500.000€</h3>"
   ]
  },
  {
   "cell_type": "code",
   "execution_count": 3,
   "metadata": {
    "colab": {
     "base_uri": "https://localhost:8080/"
    },
    "id": "CXdNhZpIFA8i",
    "outputId": "b3952958-5484-46c1-908e-f9e570933e12"
   },
   "outputs": [
    {
     "name": "stdout",
     "output_type": "stream",
     "text": [
      " Media= 19816.794868995443 y Mediana=19696.3902787643\n"
     ]
    }
   ],
   "source": [
    "media=  np.mean(datos)\n",
    "mediana=  np.median (datos)\n",
    "print(f\" Media= {media} y Mediana={mediana}\")"
   ]
  },
  {
   "cell_type": "markdown",
   "metadata": {
    "id": "3ccwKUv1FiH6"
   },
   "source": [
    "<h3>b) Aplicar el método de Probabilidad global, para detectar los outliers</h3>"
   ]
  },
  {
   "cell_type": "code",
   "execution_count": 63,
   "metadata": {
    "colab": {
     "base_uri": "https://localhost:8080/"
    },
    "id": "rjNYiOyrFijS",
    "outputId": "3736ffd7-272f-40f4-d5a0-8edf3b286578"
   },
   "outputs": [
    {
     "name": "stdout",
     "output_type": "stream",
     "text": [
      " Banda= [ 15285.4438,24348.1459]\n",
      " El dato[0]=15135.566842903634 es un outlier\n",
      " El dato[98]=24389.695361969323 es un outlier\n",
      " El dato[99]=24711.02768196429 es un outlier\n"
     ]
    }
   ],
   "source": [
    "p_g=0.95 #Modifico el intervalo de confianza para estrechar la banda.\n",
    "\n",
    "alfa_g=(2.9-p_g)/2 #Sustituí el 1-p_g por 2.9-p_g\n",
    "\n",
    "alfa= 1-(1-alfa_g)**(2.9/len(datos)) # Sustituí 1/len por 2.9/len\n",
    "Z_alfa=st.norm.ppf(1-alfa/2)\n",
    "\n",
    "alfa=round(alfa,5)\n",
    "Z_alfa=round(Z_alfa,5)\n",
    "\n",
    "xL=  round(np.mean(datos)-Z_alfa*  np.std(datos),4)\n",
    "xU=  round(np.mean(datos)+Z_alfa*  np.std(datos),4)\n",
    "print(f\" Banda= [ {xL},{xU}]\")\n",
    "for i in  range(len(datos)):\n",
    "        if datos[i] < xL  or datos[i]>xU:\n",
    "          print(f\" El dato[{i}]={datos[i]} es un outlier\")\n",
    "        #else:\n",
    "          #print(f\" El dato[{i}]={datos[i]} no es un outlier\")"
   ]
  },
  {
   "cell_type": "markdown",
   "metadata": {
    "id": "D5-yjlqCGD4r"
   },
   "source": [
    "<h3>c) Repetir el mismo procedimiento de detectar los outliers para la\n",
    "mediana: ¿Qué ocurre?</h3>"
   ]
  },
  {
   "cell_type": "code",
   "execution_count": 5,
   "metadata": {
    "colab": {
     "base_uri": "https://localhost:8080/"
    },
    "id": "d71QiW_pNHjj",
    "outputId": "131af742-3d9c-41c6-e0fc-7dda6a82fba3"
   },
   "outputs": [
    {
     "name": "stdout",
     "output_type": "stream",
     "text": [
      "Banda de confianza alrededor de la mediana = [9695.3112, 29697.4694]\n"
     ]
    }
   ],
   "source": [
    "# Parámetros de la banda de confianza\n",
    "p_g = 0.95\n",
    "alfa_g = (1 - p_g) / 2  # Probabilidad global\n",
    "alfa = 1 - (1 - alfa_g) ** (1 / len(datos))  # Ajuste para cada dato\n",
    "Z_alfa = st.norm.ppf(1 - alfa / 2)\n",
    "\n",
    "# Cálculo de la mediana y la MAD\n",
    "mediana = np.median(datos)\n",
    "MAD = np.median(np.abs(datos - mediana))\n",
    "\n",
    "# Límites inferior y superior de la banda de confianza alrededor de la mediana\n",
    "xL = round(mediana - Z_alfa * MAD, 4)\n",
    "xU = round(mediana + Z_alfa * MAD, 4)\n",
    "print(f\"Banda de confianza alrededor de la mediana = [{xL}, {xU}]\")\n",
    "\n",
    "# Detección de outliers\n",
    "for i in range(len(datos)):\n",
    "    if datos[i] < xL or datos[i] > xU:\n",
    "        print(f\"El dato[{i}] = {datos[i]} es un outlier\")\n",
    "    #else:\n",
    "        #print(f\"El dato[{i}] = {datos[i]} no es un outlier\")"
   ]
  },
  {
   "cell_type": "markdown",
   "metadata": {},
   "source": [
    "<h1>Parte 2</h1>"
   ]
  },
  {
   "cell_type": "markdown",
   "metadata": {
    "id": "NS_7A3o2RuLU"
   },
   "source": [
    "<h3>a) ¿Cuánto vale la media, mediana, la desviación estándar muestral, la\n",
    "varianza muestral y el rango de la variable X?</h3>"
   ]
  },
  {
   "cell_type": "code",
   "execution_count": null,
   "metadata": {
    "id": "B1QkMudvVDyt"
   },
   "outputs": [],
   "source": [
    "import statistics\n",
    "\n",
    "x = [1, 2, 3, 4, 5, 6, 7, 8 ,9, 10]"
   ]
  },
  {
   "cell_type": "code",
   "execution_count": 19,
   "metadata": {
    "colab": {
     "base_uri": "https://localhost:8080/"
    },
    "id": "fbGS2aDARvXr",
    "outputId": "95681b9b-b513-4f38-fe1f-09177c7baae5"
   },
   "outputs": [
    {
     "name": "stdout",
     "output_type": "stream",
     "text": [
      "1.0987654321\n",
      "Media de x: 5.5\n",
      "Mediana de x: 5.5\n",
      "Desviación estándar muestral de x: 3.0276503540974917\n",
      "Varianza muestral de x: 9.166666666666666\n",
      "Rango de x: 9\n"
     ]
    }
   ],
   "source": [
    "#Calcular media\n",
    "xmedia = 0\n",
    "xmedia2 = 0\n",
    "for i in range(len(x)):\n",
    "    xmedia = xmedia + x[i]\n",
    "xmedia = xmedia/len(x)\n",
    "\n",
    "#Calcular mediana\n",
    "x.sort() # Aseguramos que la lista está ordenada, aunque ya lo sepamos en este caso\n",
    "n = len(x)\n",
    "if n % 2 == 0:\n",
    "    xmediana = (x[n//2 - 1] + x[n//2]) / 2\n",
    "else:\n",
    "    xmediana = x[n//2]\n",
    "\n",
    "# Desviación estándar muestral\n",
    "xdestanmuestral = statistics.stdev(x)\n",
    "\n",
    "# Varianza muestral\n",
    "varianza_muestral = statistics.variance(x)\n",
    "\n",
    "# Rango\n",
    "rango = max(x) - min(x)\n",
    "\n",
    "print(\"Media de x:\", xmedia)\n",
    "print(\"Mediana de x:\", xmediana)\n",
    "print(\"Desviación estándar muestral de x:\", xdestanmuestral)\n",
    "print(\"Varianza muestral de x:\", varianza_muestral)\n",
    "print(\"Rango de x:\", rango)"
   ]
  },
  {
   "cell_type": "markdown",
   "metadata": {
    "id": "5N2A-5K7U5Zc"
   },
   "source": [
    "<h3>b) Utilizar la función describe() de Panda, para obtener la media,\n",
    "desviación estándar, etc…</h3>\n",
    "\n"
   ]
  },
  {
   "cell_type": "code",
   "execution_count": 18,
   "metadata": {
    "colab": {
     "base_uri": "https://localhost:8080/"
    },
    "id": "29Dv6zhQU5pd",
    "outputId": "9753a995-d203-40cb-8bb6-03a581de5b7e"
   },
   "outputs": [
    {
     "name": "stdout",
     "output_type": "stream",
     "text": [
      "Estadísticas descriptivas de X:\n",
      "count    10.00000\n",
      "mean      5.50000\n",
      "std       3.02765\n",
      "min       1.00000\n",
      "25%       3.25000\n",
      "50%       5.50000\n",
      "75%       7.75000\n",
      "max      10.00000\n",
      "Name: X, dtype: float64\n"
     ]
    }
   ],
   "source": [
    "df = pd.DataFrame(x, columns=['X'])\n",
    "\n",
    "# Obtenemos las estadísticas descriptivas\n",
    "estadisticas = df['X'].describe()\n",
    "\n",
    "# Mostramos los resultados\n",
    "print(\"Estadísticas descriptivas de X:\")\n",
    "print(estadisticas)"
   ]
  },
  {
   "cell_type": "markdown",
   "metadata": {
    "id": "BEUZO1UoVhKV"
   },
   "source": [
    "<h3>c) )¿Por qué el resultado de calcular la desviación estándar con Numpy\n",
    "es diferente a la calculada por describe de Panda? ¿Qué ajuste sería necesario\n",
    "realizar para que los resultados fuesen similares/iguales?</h3>"
   ]
  },
  {
   "cell_type": "markdown",
   "metadata": {
    "id": "k_EI-ajbX-x9"
   },
   "source": [
    "Porque numpy calcula la desvicación dividiendo entre n (la cantidad de muestras), mientras que pandas la calcula dividiendo entre n-1 para corregir el sesgo (ajuste de Bessel). Así que para que Numpy calcule la desviación igual que con Pandas, hay que aplicar el ajuste de Bessel:"
   ]
  },
  {
   "cell_type": "code",
   "execution_count": 28,
   "metadata": {
    "colab": {
     "base_uri": "https://localhost:8080/"
    },
    "id": "pUAQqdw2VhWc",
    "outputId": "5c585895-25fe-4f76-9b7c-2937598ab05b"
   },
   "outputs": [
    {
     "name": "stdout",
     "output_type": "stream",
     "text": [
      "Desviación estándar con pandas: 3.0276503540974917\n",
      "Desviación estándar con numpy: 3.0276503540974917\n",
      "Desviación estándar con numpy sin ajuste: 2.8722813232690143\n"
     ]
    }
   ],
   "source": [
    "# Desviación estándar muestral con pandas\n",
    "df = pd.DataFrame(x, columns=['X'])\n",
    "xstd_pandas = df['X'].std()\n",
    "\n",
    "# Desviación estándar muestral con numpy\n",
    "xstd_numpy = np.std(x, ddof=1)\n",
    "xstd_numpy2 = np.std(x)\n",
    "\n",
    "print(\"Desviación estándar con pandas:\", xstd_pandas)\n",
    "print(\"Desviación estándar con numpy:\", xstd_numpy)\n",
    "print(\"Desviación estándar con numpy sin ajuste:\", xstd_numpy2)"
   ]
  },
  {
   "cell_type": "markdown",
   "metadata": {
    "id": "OcnYhI4zYi2t"
   },
   "source": [
    "<h3>d) Estandarizar la variable (escalamiento) mediante rangos y a\n",
    "continuación calcular la media y la mediana de la variable escalada.</h3>"
   ]
  },
  {
   "cell_type": "code",
   "execution_count": 65,
   "metadata": {
    "colab": {
     "base_uri": "https://localhost:8080/"
    },
    "id": "aNnA11woYkAk",
    "outputId": "8a0c769e-b413-403b-dbb6-49a4c00b40f9"
   },
   "outputs": [
    {
     "name": "stdout",
     "output_type": "stream",
     "text": [
      "media: 0.5 , mediana: 0.5\n"
     ]
    }
   ],
   "source": [
    "# Escalamiento mediante rangos\n",
    "# Escalamiento min-max: (X - min) / (max - min)\n",
    "min_val = min(x)\n",
    "max_val = max(x)\n",
    "x_scaled = [(i - min_val) / (max_val - min_val) for i in x]\n",
    "\n",
    "# Crear DataFrame con variable escalada\n",
    "df_scaled = pd.DataFrame(x_scaled, columns=['X_scaled'])\n",
    "\n",
    "# Calcular la media y la mediana de la variable escalada\n",
    "xmediaescalada = df_scaled['X_scaled'].mean()\n",
    "xmedianaescalada = df_scaled['X_scaled'].median()\n",
    "\n",
    "print(\"media:\", xmediaescalada, \", mediana:\",xmedianaescalada)\n"
   ]
  },
  {
   "cell_type": "markdown",
   "metadata": {
    "id": "bC9YebbIZg4d"
   },
   "source": [
    "<h3>e) Repetir el apartado anterior con el escalamiento Z - score</h3>"
   ]
  },
  {
   "cell_type": "code",
   "execution_count": 26,
   "metadata": {
    "colab": {
     "base_uri": "https://localhost:8080/"
    },
    "id": "79NR8Mi5ZhJt",
    "outputId": "440a0ae6-0ff4-4618-a693-e0017ab98cb5"
   },
   "outputs": [
    {
     "name": "stdout",
     "output_type": "stream",
     "text": [
      "Media de la variable escalada (Z-score): 4.4408920985006264e-17\n",
      "Mediana de la variable escalada (Z-score): 0.0\n"
     ]
    }
   ],
   "source": [
    "# Escalamiento Z-score: (X - mean) / std\n",
    "mean_x = df['X'].mean()\n",
    "std_x = df['X'].std()\n",
    "df['X_zscore'] = (df['X'] - mean_x) / std_x\n",
    "\n",
    "# Calcular la media y la mediana de la variable escalada\n",
    "xmediazscore = df['X_zscore'].mean()\n",
    "xmedianazscore = df['X_zscore'].median()\n",
    "\n",
    "print(\"Media de la variable escalada (Z-score):\", xmediazscore)\n",
    "print(\"Mediana de la variable escalada (Z-score):\", xmedianazscore)"
   ]
  }
 ],
 "metadata": {
  "colab": {
   "provenance": []
  },
  "kernelspec": {
   "display_name": "Python 3",
   "name": "python3"
  },
  "language_info": {
   "name": "python"
  }
 },
 "nbformat": 4,
 "nbformat_minor": 0
}
